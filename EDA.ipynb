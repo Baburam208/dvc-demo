{
 "cells": [
  {
   "cell_type": "code",
   "execution_count": 1,
   "id": "a7ca7de1-68af-46c5-945e-628fb352ccfc",
   "metadata": {},
   "outputs": [],
   "source": [
    "import pandas as pd\n",
    "import matplotlib.pyplot as plt"
   ]
  },
  {
   "cell_type": "code",
   "execution_count": 2,
   "id": "e4530019-48e5-4946-aa34-82d1e2a85c86",
   "metadata": {},
   "outputs": [],
   "source": [
    "df = pd.read_csv(\"car-evaluation/car.data\", delimiter=\",\", header=None)"
   ]
  },
  {
   "cell_type": "code",
   "execution_count": 3,
   "id": "dd0d4d79-ab13-4e6c-80e8-b36fabcc6831",
   "metadata": {},
   "outputs": [
    {
     "data": {
      "text/plain": [
       "Index(['buying', 'maint', 'doors', 'persons', 'lug_boot', 'safety', 'class'], dtype='object')"
      ]
     },
     "execution_count": 3,
     "metadata": {},
     "output_type": "execute_result"
    }
   ],
   "source": [
    "# real column names\n",
    "real_cols_names = ['buying', 'maint', 'doors', 'persons', 'lug_boot', 'safety', 'class']\n",
    "\n",
    "# replacing the column names\n",
    "df.columns = real_cols_names\n",
    "df.columns"
   ]
  },
  {
   "cell_type": "code",
   "execution_count": 5,
   "id": "8b17561d-e1d9-43fc-83e7-487e0bc3b73a",
   "metadata": {},
   "outputs": [],
   "source": [
    "# df to csv\n",
    "import os\n",
    "\n",
    "if not os.path.exists('data'):\n",
    "    os.makedirs('data')\n",
    "\n",
    "df.to_csv(\"data/car_evaluation_processed.csv\", index=False)"
   ]
  },
  {
   "cell_type": "code",
   "execution_count": null,
   "id": "3cca16ae-e09b-4f9a-91b3-1ae8d0fa46ce",
   "metadata": {},
   "outputs": [],
   "source": []
  }
 ],
 "metadata": {
  "kernelspec": {
   "display_name": "MLOps (env)",
   "language": "python",
   "name": ".mlops_env"
  },
  "language_info": {
   "codemirror_mode": {
    "name": "ipython",
    "version": 3
   },
   "file_extension": ".py",
   "mimetype": "text/x-python",
   "name": "python",
   "nbconvert_exporter": "python",
   "pygments_lexer": "ipython3",
   "version": "3.10.0"
  }
 },
 "nbformat": 4,
 "nbformat_minor": 5
}
